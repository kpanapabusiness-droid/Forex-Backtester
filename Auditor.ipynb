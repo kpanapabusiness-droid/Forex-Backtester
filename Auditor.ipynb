{
 "cells": [
  {
   "cell_type": "code",
   "execution_count": null,
   "id": "745af1a3-23b4-44c2-8b98-4839b13b9d8f",
   "metadata": {},
   "outputs": [],
   "source": [
    "#Daily tester"
   ]
  },
  {
   "cell_type": "code",
   "execution_count": null,
   "id": "8ce528f4-68e9-4e81-afa3-1e15a04906f5",
   "metadata": {},
   "outputs": [],
   "source": [
    "import sys, subprocess, pathlib\n",
    "\n",
    "root = pathlib.Path(\"/Users/keanupanapa/Notebooks/Forex_Backtester\")\n",
    "script = root / \"smoke_test_selfcontained_v198.py\"\n",
    "\n",
    "cmd = [sys.executable, str(script), \"--mode\", \"fast\"]  # or \"full\"\n",
    "print(\"Running:\", \" \".join(cmd))\n",
    "proc = subprocess.run(cmd, capture_output=True, text=True)\n",
    "print(proc.stdout)\n",
    "print(proc.stderr)\n",
    "if proc.returncode != 0:\n",
    "    raise RuntimeError(f\"Self-contained smoke failed with code {proc.returncode}\")\n"
   ]
  },
  {
   "cell_type": "code",
   "execution_count": 4,
   "id": "3df85f7e-5df2-416b-95ae-8f0f4f171fcf",
   "metadata": {},
   "outputs": [
    {
     "name": "stdout",
     "output_type": "stream",
     "text": [
      "=== backtester audit ===\n",
      "WFO.run_backtest_walk_forward          -> True\n",
      "apply_indicators_with_cache            -> True\n",
      "resolve_dbcvix_risk                    -> True\n",
      "load_dbcvix_series                     -> True\n",
      "run_backtest_uses_load_dbcvix_series   -> True\n",
      "trailing_stop_exit_fill_fix            -> False\n",
      "TRADES_COLS_has_dbcvix_fields          -> True\n",
      "simulate_pair_trades                   -> True\n",
      "simulate_pair_trades_return_equity_flag -> True\n",
      "persist_stop_at_exit                   -> False\n",
      "spread_in_pnl_model                    -> True\n"
     ]
    }
   ],
   "source": [
    "# --- Audit critical hooks inside backtester.py (non-destructive) ---\n",
    "\n",
    "import importlib, inspect, re, pathlib, sys\n",
    "\n",
    "project_root = pathlib.Path.cwd()\n",
    "mod_name = \"backtester\"\n",
    "\n",
    "# (Re)load backtester freshly\n",
    "if mod_name in sys.modules:\n",
    "    del sys.modules[mod_name]\n",
    "bt = importlib.import_module(mod_name)\n",
    "\n",
    "report = {}\n",
    "\n",
    "def has_func(name, min_params=None):\n",
    "    ok = hasattr(bt, name) and callable(getattr(bt, name))\n",
    "    if ok and min_params is not None:\n",
    "        sig = inspect.signature(getattr(bt, name))\n",
    "        ok = len(sig.parameters) >= min_params\n",
    "    return ok\n",
    "\n",
    "def find_source_snippet(pattern):\n",
    "    try:\n",
    "        src = inspect.getsource(bt)\n",
    "    except Exception:\n",
    "        return False, None\n",
    "    m = re.search(pattern, src, flags=re.DOTALL)\n",
    "    return (m is not None), (src[m.start():m.end()] if m else None)\n",
    "\n",
    "# 1) WFO entrypoint(s)\n",
    "report[\"WFO.run_backtest_walk_forward\"] = has_func(\"run_backtest_walk_forward\", min_params=1)\n",
    "\n",
    "# 2) cache-aware indicator application\n",
    "report[\"apply_indicators_with_cache\"] = has_func(\"apply_indicators_with_cache\")\n",
    "\n",
    "# 3) DBCVIX canonical risk resolver (3-tuple)\n",
    "report[\"resolve_dbcvix_risk\"] = has_func(\"resolve_dbcvix_risk\", min_params=4)\n",
    "\n",
    "# 4) DBCVIX series loader wired at run_backtest()\n",
    "report[\"load_dbcvix_series\"] = has_func(\"load_dbcvix_series\")\n",
    "src = inspect.getsource(bt.run_backtest)\n",
    "report[\"run_backtest_uses_load_dbcvix_series\"] = \"load_dbcvix_series\" in src\n",
    "\n",
    "# 5) trailing-stop fill/audit fix block present?\n",
    "ts_fix_found, _ = find_source_snippet(r'reason\\s*==\\s*[\"\\']trailing_stop[\"\\']\\s*:\\s*\\n\\s*#?\\s*Force fill at the final stop')\n",
    "report[\"trailing_stop_exit_fill_fix\"] = ts_fix_found\n",
    "\n",
    "# 6) trades schema includes DBCVIX audit fields\n",
    "try:\n",
    "    TRADES_COLS = getattr(bt, \"TRADES_COLS\", [])\n",
    "except Exception:\n",
    "    TRADES_COLS = []\n",
    "need_cols = {\"risk_pct_used\", \"dbcvix_val\", \"dbcvix_flag\"}\n",
    "report[\"TRADES_COLS_has_dbcvix_fields\"] = bool(set(TRADES_COLS) >= need_cols)\n",
    "\n",
    "# 7) simulate_pair_trades signature + returns equity when asked\n",
    "report[\"simulate_pair_trades\"] = has_func(\"simulate_pair_trades\", min_params=4)\n",
    "sim_src = inspect.getsource(bt.simulate_pair_trades)\n",
    "report[\"simulate_pair_trades_return_equity_flag\"] = (\"return_equity\" in sim_src)\n",
    "\n",
    "# 8) finalize stop persisted on exit\n",
    "persist_fix_found, _ = find_source_snippet(r'finalize_trade_row\\([^)]*current_stop_price_at_exit')\n",
    "report[\"persist_stop_at_exit\"] = persist_fix_found\n",
    "\n",
    "# 9) spreads modeled in PnL-only via spread_pips_used\n",
    "spread_fix_found, _ = find_source_snippet(r'compute_trade_pnl_money\\(.+?spread_pips_used',)\n",
    "report[\"spread_in_pnl_model\"] = spread_fix_found\n",
    "\n",
    "print(\"=== backtester audit ===\")\n",
    "for k,v in report.items():\n",
    "    print(f\"{k:38} -> {v}\")\n"
   ]
  },
  {
   "cell_type": "code",
   "execution_count": null,
   "id": "973c3ab1-8c00-4577-8b26-224b823bceee",
   "metadata": {},
   "outputs": [],
   "source": []
  }
 ],
 "metadata": {
  "kernelspec": {
   "display_name": "Python (forex_backtester)",
   "language": "python",
   "name": "forex_backtester"
  },
  "language_info": {
   "codemirror_mode": {
    "name": "ipython",
    "version": 3
   },
   "file_extension": ".py",
   "mimetype": "text/x-python",
   "name": "python",
   "nbconvert_exporter": "python",
   "pygments_lexer": "ipython3",
   "version": "3.12.11"
  }
 },
 "nbformat": 4,
 "nbformat_minor": 5
}
