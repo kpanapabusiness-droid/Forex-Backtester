{
 "cells": [
  {
   "cell_type": "code",
   "execution_count": 1,
   "id": "007a7fe8",
   "metadata": {},
   "outputs": [
    {
     "ename": "ModuleNotFoundError",
     "evalue": "No module named 'backtester'",
     "output_type": "error",
     "traceback": [
      "\u001b[31m---------------------------------------------------------------------------\u001b[39m",
      "\u001b[31mModuleNotFoundError\u001b[39m                       Traceback (most recent call last)",
      "\u001b[36mCell\u001b[39m\u001b[36m \u001b[39m\u001b[32mIn[1]\u001b[39m\u001b[32m, line 10\u001b[39m\n\u001b[32m      8\u001b[39m \u001b[38;5;28;01mimport\u001b[39;00m\u001b[38;5;250m \u001b[39m\u001b[34;01mshutil\u001b[39;00m\n\u001b[32m      9\u001b[39m \u001b[38;5;28;01mfrom\u001b[39;00m\u001b[38;5;250m \u001b[39m\u001b[34;01mdatetime\u001b[39;00m\u001b[38;5;250m \u001b[39m\u001b[38;5;28;01mimport\u001b[39;00m datetime\n\u001b[32m---> \u001b[39m\u001b[32m10\u001b[39m \u001b[38;5;28;01mfrom\u001b[39;00m\u001b[38;5;250m \u001b[39m\u001b[34;01mbacktester\u001b[39;00m\u001b[38;5;250m \u001b[39m\u001b[38;5;28;01mimport\u001b[39;00m run_backtest\n\u001b[32m     11\u001b[39m \u001b[38;5;28;01mfrom\u001b[39;00m\u001b[38;5;250m \u001b[39m\u001b[34;01mutils\u001b[39;00m\u001b[38;5;250m \u001b[39m\u001b[38;5;28;01mimport\u001b[39;00m summarize_results\n\u001b[32m     13\u001b[39m \u001b[38;5;66;03m# =============================================\u001b[39;00m\n\u001b[32m     14\u001b[39m \u001b[38;5;66;03m# 🔧 SETUP\u001b[39;00m\n\u001b[32m     15\u001b[39m \u001b[38;5;66;03m# =============================================\u001b[39;00m\n",
      "\u001b[31mModuleNotFoundError\u001b[39m: No module named 'backtester'"
     ]
    }
   ],
   "source": [
    "# =============================================\n",
    "# 🔁 BATCH RUNNER — MULTIPLE C1 INDICATORS\n",
    "# =============================================\n",
    "\n",
    "import os\n",
    "import yaml\n",
    "import pandas as pd\n",
    "import shutil\n",
    "from datetime import datetime\n",
    "from backtester import run_backtest\n",
    "from utils import summarize_results\n",
    "\n",
    "# =============================================\n",
    "# 🔧 SETUP\n",
    "# =============================================\n",
    "with open(\"batch_config.yaml\", \"r\") as f:\n",
    "    batch_config = yaml.safe_load(f)\n",
    "\n",
    "indicator_dict = batch_config[\"batch_test\"][\"indicators\"]\n",
    "default_params = batch_config[\"batch_test\"].get(\"default_params\", {})\n",
    "STARTING_BALANCE = 10000\n",
    "RESULTS_CSV = \"results/c1_batch_results.csv\"\n",
    "\n",
    "# === Utility to load and save config ===\n",
    "def load_config(path=\"config.yaml\"):\n",
    "    with open(path, \"r\") as f:\n",
    "        return yaml.safe_load(f)\n",
    "\n",
    "def save_config(config, path=\"config.yaml\"):\n",
    "    with open(path, \"w\") as f:\n",
    "        yaml.dump(config, f)\n"
   ]
  },
  {
   "cell_type": "code",
   "execution_count": 2,
   "id": "3f11c2f8",
   "metadata": {},
   "outputs": [
    {
     "ename": "NameError",
     "evalue": "name 'indicator_dict' is not defined",
     "output_type": "error",
     "traceback": [
      "\u001b[31m---------------------------------------------------------------------------\u001b[39m",
      "\u001b[31mNameError\u001b[39m                                 Traceback (most recent call last)",
      "\u001b[36mCell\u001b[39m\u001b[36m \u001b[39m\u001b[32mIn[2]\u001b[39m\u001b[32m, line 6\u001b[39m\n\u001b[32m      1\u001b[39m \u001b[38;5;66;03m# =============================================\u001b[39;00m\n\u001b[32m      2\u001b[39m \u001b[38;5;66;03m# 🚀 RUN BATCH TESTS\u001b[39;00m\n\u001b[32m      3\u001b[39m \u001b[38;5;66;03m# =============================================\u001b[39;00m\n\u001b[32m      4\u001b[39m all_results = []\n\u001b[32m----> \u001b[39m\u001b[32m6\u001b[39m \u001b[38;5;28;01mfor\u001b[39;00m short_name, custom_params \u001b[38;5;129;01min\u001b[39;00m \u001b[43mindicator_dict\u001b[49m.items():\n\u001b[32m      7\u001b[39m     \u001b[38;5;28mprint\u001b[39m(\u001b[33mf\u001b[39m\u001b[33m\"\u001b[39m\u001b[38;5;130;01m\\\\\u001b[39;00m\u001b[33mn🔍 Testing C1: \u001b[39m\u001b[38;5;132;01m{\u001b[39;00mshort_name\u001b[38;5;132;01m}\u001b[39;00m\u001b[33m\"\u001b[39m)\n\u001b[32m      9\u001b[39m     \u001b[38;5;66;03m# Combine default and custom params\u001b[39;00m\n",
      "\u001b[31mNameError\u001b[39m: name 'indicator_dict' is not defined"
     ]
    }
   ],
   "source": [
    "# =============================================\n",
    "# 🚀 RUN BATCH TESTS\n",
    "# =============================================\n",
    "all_results = []\n",
    "\n",
    "for short_name, custom_params in indicator_dict.items():\n",
    "    print(f\"\\\\n🔍 Testing C1: {short_name}\")\n",
    "\n",
    "    # Combine default and custom params\n",
    "    params = default_params.copy()\n",
    "    params.update(custom_params or {})\n",
    "\n",
    "    full_name = f\"c1_{short_name}\"\n",
    "\n",
    "    # --- Step A: Update config.yaml ---\n",
    "    config = load_config()\n",
    "    config[\"indicators\"][\"c1\"] = short_name\n",
    "    config[\"indicator_params\"] = {full_name: params}\n",
    "    save_config(config)\n",
    "\n",
    "    # --- Step B: Run backtest ---\n",
    "    run_backtest()\n",
    "\n",
    "    # --- Step C: Archive result files ---\n",
    "    timestamp = datetime.now().strftime(\"%Y%m%d_%H%M%S\")\n",
    "    folder = f\"results/results_history/{short_name}_{timestamp}\"\n",
    "    os.makedirs(folder, exist_ok=True)\n",
    "\n",
    "    for fname in [\"trades.csv\", \"summary.txt\", \"equity_curve.csv\"]:\n",
    "        if os.path.exists(f\"results/{fname}\"):\n",
    "            shutil.copy(f\"results/{fname}\", os.path.join(folder, fname))\n",
    "\n",
    "    # --- Step D: Summarize results ---\n",
    "    trades_path = \"results/trades.csv\"\n",
    "\n",
    "    if os.path.exists(trades_path) and os.path.getsize(trades_path) > 0:\n",
    "        try:\n",
    "            trades_df = pd.read_csv(trades_path)\n",
    "        except pd.errors.EmptyDataError:\n",
    "            print(f\"⚠️ {short_name}: trades.csv is empty (no columns)\")\n",
    "            continue\n",
    "    else:\n",
    "        print(f\"⚠️ {short_name}: trades.csv not found or has no content\")\n",
    "        continue\n",
    "\n",
    "    params_str = \", \".join(f\"{k}={v}\" for k, v in params.items())\n",
    "\n",
    "    metrics = summarize_results(\n",
    "        trades=trades_df.to_dict(\"records\"),\n",
    "        starting_balance=STARTING_BALANCE,\n",
    "        run_name=short_name,\n",
    "        params=params_str\n",
    "    )\n",
    "\n",
    "    if metrics:\n",
    "        metrics[\"indicator\"] = short_name\n",
    "        all_results.append(metrics)\n"
   ]
  },
  {
   "cell_type": "code",
   "execution_count": 3,
   "id": "5af98bcb",
   "metadata": {},
   "outputs": [
    {
     "name": "stdout",
     "output_type": "stream",
     "text": [
      "⚠️ No results to save.\n"
     ]
    }
   ],
   "source": [
    "# =============================================\n",
    "# 💾 SAVE FINAL RESULTS CSV\n",
    "# =============================================\n",
    "if all_results:\n",
    "    df_results = pd.DataFrame(all_results)\n",
    "    df_results.to_csv(RESULTS_CSV, index=False)\n",
    "    print(f\"\\n✅ Saved C1 batch results to {RESULTS_CSV}\")\n",
    "else:\n",
    "    print(\"⚠️ No results to save.\")\n"
   ]
  },
  {
   "cell_type": "code",
   "execution_count": null,
   "id": "2929b212-f46f-4abb-b7a8-3caa65d1af7a",
   "metadata": {},
   "outputs": [],
   "source": []
  }
 ],
 "metadata": {
  "kernelspec": {
   "display_name": "Python (forex_backtester)",
   "language": "python",
   "name": "forex_backtester"
  },
  "language_info": {
   "codemirror_mode": {
    "name": "ipython",
    "version": 3
   },
   "file_extension": ".py",
   "mimetype": "text/x-python",
   "name": "python",
   "nbconvert_exporter": "python",
   "pygments_lexer": "ipython3",
   "version": "3.12.11"
  }
 },
 "nbformat": 4,
 "nbformat_minor": 5
}
