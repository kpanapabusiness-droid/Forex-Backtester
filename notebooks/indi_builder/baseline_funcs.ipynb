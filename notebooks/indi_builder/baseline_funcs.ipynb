{
 "cells": [
  {
   "cell_type": "code",
   "execution_count": null,
   "id": "3dfd0b38-9cb5-4963-b726-0dd18d24863b",
   "metadata": {},
   "outputs": [],
   "source": []
  },
  {
   "cell_type": "code",
   "execution_count": null,
   "id": "254e0a2a-9fe7-48ac-bddd-7137c745f6a3",
   "metadata": {},
   "outputs": [],
   "source": []
  },
  {
   "cell_type": "code",
   "execution_count": null,
   "id": "d3406464-0fc6-4135-8a17-46a9df031255",
   "metadata": {},
   "outputs": [],
   "source": []
  },
  {
   "cell_type": "code",
   "execution_count": null,
   "id": "351cc476-5639-476c-8d87-b40b7781a63f",
   "metadata": {},
   "outputs": [],
   "source": []
  },
  {
   "cell_type": "code",
   "execution_count": null,
   "id": "1f19c417-3793-46a2-8b6e-99cb99078c69",
   "metadata": {},
   "outputs": [],
   "source": []
  },
  {
   "cell_type": "code",
   "execution_count": null,
   "id": "85bd93be-6e5e-4fa7-93d7-dda966fc0ce6",
   "metadata": {},
   "outputs": [],
   "source": []
  },
  {
   "cell_type": "code",
   "execution_count": null,
   "id": "f71d9817-79ad-4ece-8b7b-5aa2c48fe1b9",
   "metadata": {},
   "outputs": [],
   "source": []
  },
  {
   "cell_type": "code",
   "execution_count": null,
   "id": "6e50edc7-a436-45c2-af54-ae13a267a4ad",
   "metadata": {},
   "outputs": [],
   "source": []
  },
  {
   "cell_type": "code",
   "execution_count": null,
   "id": "1aed1be6-753d-40f0-8732-c733d5e4438e",
   "metadata": {},
   "outputs": [],
   "source": [
    "import ast\n",
    "import inspect\n",
    "import os\n",
    "\n",
    "# Force export to project root, regardless of notebook location\n",
    "project_root = os.path.abspath(\"..\")  # go one level up from notebooks/\n",
    "indicators_path = os.path.join(project_root, \"indicators\")\n",
    "\n",
    "def export_functions(output_path):\n",
    "    \"\"\"\n",
    "    Scans the notebook's namespace and writes all top-level functions\n",
    "    to a Python module file.\n",
    "    \"\"\"\n",
    "    source_lines = []\n",
    "\n",
    "    for name, val in globals().items():\n",
    "        if callable(val) and val.__module__ == \"__main__\":\n",
    "            try:\n",
    "                lines = inspect.getsource(val)\n",
    "                ast.parse(lines)  # Validate it's valid Python\n",
    "                source_lines.append(lines)\n",
    "            except Exception:\n",
    "                pass  # Skip non-exportable items\n",
    "\n",
    "    # Ensure directory exists\n",
    "    os.makedirs(os.path.dirname(output_path), exist_ok=True)\n",
    "\n",
    "    with open(output_path, \"w\") as f:\n",
    "        f.write(\"\".join(source_lines))\n",
    "\n",
    "    print(f\"✅ Exported {len(source_lines)} functions to {output_path}\")\n"
   ]
  },
  {
   "cell_type": "code",
   "execution_count": null,
   "id": "99eb066f-fc53-49c9-b36d-501b5ed4a4aa",
   "metadata": {},
   "outputs": [],
   "source": [
    "export_functions(\"indicators/baseline_funcs.py\")\n"
   ]
  }
 ],
 "metadata": {
  "kernelspec": {
   "display_name": "Python (forex_backtester)",
   "language": "python",
   "name": "forex_backtester"
  },
  "language_info": {
   "codemirror_mode": {
    "name": "ipython",
    "version": 3
   },
   "file_extension": ".py",
   "mimetype": "text/x-python",
   "name": "python",
   "nbconvert_exporter": "python",
   "pygments_lexer": "ipython3",
   "version": "3.12.11"
  }
 },
 "nbformat": 4,
 "nbformat_minor": 5
}
