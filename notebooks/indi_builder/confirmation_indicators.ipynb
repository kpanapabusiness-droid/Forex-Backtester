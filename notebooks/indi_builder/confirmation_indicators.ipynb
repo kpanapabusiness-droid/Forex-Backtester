{
 "cells": [
  {
   "cell_type": "markdown",
   "id": "37aa7517",
   "metadata": {},
   "source": [
    "### c1_twiggs_money_flow"
   ]
  },
  {
   "cell_type": "code",
   "execution_count": 12,
   "id": "fa331ccb",
   "metadata": {},
   "outputs": [],
   "source": [
    "def c1_twiggs_money_flow(df, length=15, signal_col='c1_signal', **kwargs):\n",
    "    typical_price_movement = (df[\"close\"] - df[\"low\"]) - (df[\"high\"] - df[\"close\"])\n",
    "    adv = typical_price_movement * df[\"volume\"]\n",
    "    wma_adv = adv.rolling(length).apply(lambda x: sum((i + 1) * v for i, v in enumerate(x)) / sum(range(1, length + 1)), raw=True)\n",
    "    wma_vol = df[\"volume\"].rolling(length).apply(lambda x: sum((i + 1) * v for i, v in enumerate(x)) / sum(range(1, length + 1)), raw=True)\n",
    "    tmf = wma_adv / wma_vol\n",
    "    df[\"tmf\"] = tmf\n",
    "    df[signal_col] = 0\n",
    "    df.loc[df[\"tmf\"] > 0, signal_col] = 1\n",
    "    df.loc[df[\"tmf\"] < 0, signal_col] = -1\n",
    "    return df"
   ]
  },
  {
   "cell_type": "markdown",
   "id": "5cfc5964",
   "metadata": {},
   "source": [
    "### c1_disparity_index"
   ]
  },
  {
   "cell_type": "code",
   "execution_count": 13,
   "id": "c56c271c",
   "metadata": {},
   "outputs": [],
   "source": [
    "def c1_disparity_index(df, period=13, signal_col='c1_signal', **kwargs):\n",
    "    ma = df['close'].rolling(window=period).mean()\n",
    "    disparity = (df['close'] / ma) - 1\n",
    "    df[signal_col] = 0\n",
    "    df.loc[disparity > 0, signal_col] = 1\n",
    "    df.loc[disparity < 0, signal_col] = -1\n",
    "    return df"
   ]
  },
  {
   "cell_type": "markdown",
   "id": "97fb220d",
   "metadata": {},
   "source": [
    "### c1_trend_akkam"
   ]
  },
  {
   "cell_type": "code",
   "execution_count": 14,
   "id": "b67f957e",
   "metadata": {},
   "outputs": [],
   "source": [
    "def c1_trend_akkam(df, period=14, signal_col='c1_signal', **kwargs):\n",
    "    ma = df['close'].ewm(span=period, adjust=False).mean()\n",
    "    df[signal_col] = 0\n",
    "    df.loc[df['close'] > ma, signal_col] = 1\n",
    "    df.loc[df['close'] < ma, signal_col] = -1\n",
    "    return df"
   ]
  },
  {
   "cell_type": "markdown",
   "id": "9fe4cc3c",
   "metadata": {},
   "source": [
    "### c1_kalman_filter"
   ]
  },
  {
   "cell_type": "code",
   "execution_count": 15,
   "id": "32567650",
   "metadata": {},
   "outputs": [],
   "source": [
    "def c1_kalman_filter(df, smoothing=0.2, signal_col='c1_signal', **kwargs):\n",
    "    df['kalman'] = df['close'].ewm(alpha=smoothing, adjust=False).mean()\n",
    "    df[signal_col] = 0\n",
    "    df.loc[df['close'] > df['kalman'], signal_col] = 1\n",
    "    df.loc[df['close'] < df['kalman'], signal_col] = -1\n",
    "    return df"
   ]
  },
  {
   "cell_type": "markdown",
   "id": "a2b30983",
   "metadata": {},
   "source": [
    "### c1_fisher_transform"
   ]
  },
  {
   "cell_type": "code",
   "execution_count": 16,
   "id": "68760828",
   "metadata": {},
   "outputs": [],
   "source": [
    "def c1_fisher_transform(df, period=10, signal_col='c1_signal', **kwargs):\n",
    "    high = df['high'].rolling(window=period).max()\n",
    "    low = df['low'].rolling(window=period).min()\n",
    "    value = 2 * ((df['close'] - low) / (high - low + 1e-9) - 0.5)\n",
    "    fisher = 0.5 * np.log((1 + value) / (1 - value + 1e-9))\n",
    "    df[signal_col] = 0\n",
    "    df.loc[fisher > 0, signal_col] = 1\n",
    "    df.loc[fisher < 0, signal_col] = -1\n",
    "    return df"
   ]
  },
  {
   "cell_type": "markdown",
   "id": "f83691fc",
   "metadata": {},
   "source": [
    "### c1_ehlers_eot"
   ]
  },
  {
   "cell_type": "code",
   "execution_count": 17,
   "id": "94c1f8f9",
   "metadata": {},
   "outputs": [],
   "source": [
    "def c1_ehlers_eot(df, period=10, signal_col='c1_signal', **kwargs):\n",
    "    momentum = df['close'] - df['close'].shift(period)\n",
    "    smoothed = momentum.ewm(span=period, adjust=False).mean()\n",
    "    df[signal_col] = 0\n",
    "    df.loc[smoothed > 0, signal_col] = 1\n",
    "    df.loc[smoothed < 0, signal_col] = -1\n",
    "    return df"
   ]
  },
  {
   "cell_type": "markdown",
   "id": "a1e9ada7",
   "metadata": {},
   "source": [
    "### c1_coral"
   ]
  },
  {
   "cell_type": "code",
   "execution_count": 18,
   "id": "cccae677",
   "metadata": {},
   "outputs": [],
   "source": [
    "def c1_coral(df, period=21, signal_col='c1_signal', **kwargs):\n",
    "    ema1 = df['close'].ewm(span=period, adjust=False).mean()\n",
    "    ema2 = ema1.ewm(span=period, adjust=False).mean()\n",
    "    df[signal_col] = 0\n",
    "    df.loc[df['close'] > ema2, signal_col] = 1\n",
    "    df.loc[df['close'] < ema2, signal_col] = -1\n",
    "    return df"
   ]
  },
  {
   "cell_type": "markdown",
   "id": "6e6080cd",
   "metadata": {},
   "source": [
    "### c1_chandelier_exit"
   ]
  },
  {
   "cell_type": "code",
   "execution_count": 19,
   "id": "504c0c0f",
   "metadata": {},
   "outputs": [],
   "source": [
    "def c1_chandelier_exit(df, atr_period=22, multiplier=3.0, signal_col='c1_signal', **kwargs):\n",
    "    atr = df['high'].rolling(atr_period).max() - df['low'].rolling(atr_period).min()\n",
    "    long_stop = df['high'].rolling(atr_period).max() - atr * multiplier\n",
    "    short_stop = df['low'].rolling(atr_period).min() + atr * multiplier\n",
    "    df[signal_col] = 0\n",
    "    df.loc[df['close'] > long_stop, signal_col] = 1\n",
    "    df.loc[df['close'] < short_stop, signal_col] = -1\n",
    "    return df"
   ]
  },
  {
   "cell_type": "markdown",
   "id": "2604f8f1",
   "metadata": {},
   "source": [
    "### c1_glitch_index"
   ]
  },
  {
   "cell_type": "code",
   "execution_count": 20,
   "id": "0e360a10",
   "metadata": {},
   "outputs": [],
   "source": [
    "def c1_glitch_index(df, period=14, signal_col='c1_signal', **kwargs):\n",
    "    momentum = df['close'] - df['close'].shift(1)\n",
    "    glitch = momentum.rolling(period).mean()\n",
    "    df[signal_col] = 0\n",
    "    df.loc[glitch > 0, signal_col] = 1\n",
    "    df.loc[glitch < 0, signal_col] = -1\n",
    "    return df"
   ]
  },
  {
   "cell_type": "markdown",
   "id": "b61786fd",
   "metadata": {},
   "source": [
    "### c1_metro_advanced"
   ]
  },
  {
   "cell_type": "code",
   "execution_count": 21,
   "id": "6f07b6a5",
   "metadata": {},
   "outputs": [],
   "source": [
    "def c1_metro_advanced(df, period=14, signal_col='c1_signal', **kwargs):\n",
    "    roc = df['close'].pct_change(periods=1)\n",
    "    metro = roc.rolling(window=period).mean().rolling(window=period).mean()\n",
    "    df[signal_col] = 0\n",
    "    df.loc[metro > 0, signal_col] = 1\n",
    "    df.loc[metro < 0, signal_col] = -1\n",
    "    return df"
   ]
  },
  {
   "cell_type": "markdown",
   "id": "6810df5a",
   "metadata": {},
   "source": [
    "### c1_ehlers_roofing_filter"
   ]
  },
  {
   "cell_type": "code",
   "execution_count": 22,
   "id": "b095adcd",
   "metadata": {},
   "outputs": [],
   "source": [
    "def c1_ehlers_roofing_filter(df, period=20, signal_col='c1_signal', **kwargs):\n",
    "    avg_price = (df['high'] + df['low']) / 2\n",
    "    roofing = avg_price - avg_price.rolling(window=period).mean()\n",
    "    df[signal_col] = 0\n",
    "    df.loc[roofing > 0, signal_col] = 1\n",
    "    df.loc[roofing < 0, signal_col] = -1\n",
    "    return df"
   ]
  },
  {
   "cell_type": "markdown",
   "id": "ebdc0fae",
   "metadata": {},
   "source": [
    "### c1_perfect_trend_line"
   ]
  },
  {
   "cell_type": "code",
   "execution_count": 23,
   "id": "2185d0e2",
   "metadata": {},
   "outputs": [],
   "source": [
    "def c1_perfect_trend_line(df, period=10, signal_col='c1_signal', **kwargs):\n",
    "    slope = df['close'].diff().rolling(window=period).mean()\n",
    "    df[signal_col] = 0\n",
    "    df.loc[slope > 0, signal_col] = 1\n",
    "    df.loc[slope < 0, signal_col] = -1\n",
    "    return df"
   ]
  },
  {
   "cell_type": "markdown",
   "id": "3c92686a",
   "metadata": {},
   "source": [
    "### c1_hacolt_lines"
   ]
  },
  {
   "cell_type": "code",
   "execution_count": 24,
   "id": "cd5deeba",
   "metadata": {},
   "outputs": [],
   "source": [
    "def c1_hacolt_lines(df, period=13, signal_col='c1_signal', **kwargs):\n",
    "    ha_close = (df['open'] + df['high'] + df['low'] + df['close']) / 4\n",
    "    ha_smoothed = ha_close.rolling(window=period).mean()\n",
    "    df[signal_col] = 0\n",
    "    df.loc[df['close'] > ha_smoothed, signal_col] = 1\n",
    "    df.loc[df['close'] < ha_smoothed, signal_col] = -1\n",
    "    return df"
   ]
  },
  {
   "cell_type": "markdown",
   "id": "85471aa3",
   "metadata": {},
   "source": [
    "### c1_band_pass_filter"
   ]
  },
  {
   "cell_type": "code",
   "execution_count": 25,
   "id": "d4c360d0",
   "metadata": {},
   "outputs": [],
   "source": [
    "def c1_band_pass_filter(df, period=20, signal_col='c1_signal', **kwargs):\n",
    "    smooth = df['close'].rolling(window=period).mean()\n",
    "    bp = df['close'] - smooth\n",
    "    df[signal_col] = 0\n",
    "    df.loc[bp > 0, signal_col] = 1\n",
    "    df.loc[bp < 0, signal_col] = -1\n",
    "    return df"
   ]
  },
  {
   "cell_type": "markdown",
   "id": "c2f2fb96",
   "metadata": {},
   "source": [
    "### c1_ehlers_deli"
   ]
  },
  {
   "cell_type": "code",
   "execution_count": 26,
   "id": "b9f46c60",
   "metadata": {},
   "outputs": [],
   "source": [
    "def c1_ehlers_deli(df, period=15, signal_col='c1_signal', **kwargs):\n",
    "    detrended = df['close'] - df['close'].rolling(window=period).mean()\n",
    "    deli = detrended.rolling(window=period).mean()\n",
    "    df[signal_col] = 0\n",
    "    df.loc[deli > 0, signal_col] = 1\n",
    "    df.loc[deli < 0, signal_col] = -1\n",
    "    return df"
   ]
  },
  {
   "cell_type": "markdown",
   "id": "c3a11a5d",
   "metadata": {},
   "source": [
    "### c1_forecast"
   ]
  },
  {
   "cell_type": "code",
   "execution_count": 27,
   "id": "bd82ee58",
   "metadata": {},
   "outputs": [],
   "source": [
    "def c1_forecast(df, period=14, signal_col='c1_signal', **kwargs):\n",
    "    forecast = df['close'].rolling(window=period).mean()\n",
    "    df[signal_col] = 0\n",
    "    df.loc[df['close'] > forecast, signal_col] = 1\n",
    "    df.loc[df['close'] < forecast, signal_col] = -1\n",
    "    return df"
   ]
  },
  {
   "cell_type": "markdown",
   "id": "489d843e",
   "metadata": {},
   "source": [
    "### c1_grucha_percentage_index"
   ]
  },
  {
   "cell_type": "code",
   "execution_count": 28,
   "id": "017bc1ec",
   "metadata": {},
   "outputs": [],
   "source": [
    "def c1_grucha_percentage_index(df, period=14, signal_col='c1_signal', **kwargs):\n",
    "    roc = df['close'].pct_change().rolling(window=period).mean()\n",
    "    df[signal_col] = 0\n",
    "    df.loc[roc > 0, signal_col] = 1\n",
    "    df.loc[roc < 0, signal_col] = -1\n",
    "    return df"
   ]
  },
  {
   "cell_type": "markdown",
   "id": "9af19492",
   "metadata": {},
   "source": [
    "### c1_turtle_trading_channel"
   ]
  },
  {
   "cell_type": "code",
   "execution_count": 29,
   "id": "f3a284c0",
   "metadata": {},
   "outputs": [],
   "source": [
    "def c1_turtle_trading_channel(df, period=20, signal_col='c1_signal', **kwargs):\n",
    "    high_channel = df['high'].rolling(window=period).max()\n",
    "    low_channel = df['low'].rolling(window=period).min()\n",
    "    df[signal_col] = 0\n",
    "    df.loc[df['close'] > high_channel, signal_col] = 1\n",
    "    df.loc[df['close'] < low_channel, signal_col] = -1\n",
    "    return df"
   ]
  },
  {
   "cell_type": "markdown",
   "id": "f64452b9",
   "metadata": {},
   "source": [
    "### c1_smoothed_momentum"
   ]
  },
  {
   "cell_type": "code",
   "execution_count": 30,
   "id": "ddb290fe",
   "metadata": {},
   "outputs": [],
   "source": [
    "def c1_smoothed_momentum(df, period=10, signal_col='c1_signal', **kwargs):\n",
    "    momentum = df['close'] - df['close'].shift(1)\n",
    "    smooth = momentum.ewm(span=period, adjust=False).mean()\n",
    "    df[signal_col] = 0\n",
    "    df.loc[smooth > 0, signal_col] = 1\n",
    "    df.loc[smooth < 0, signal_col] = -1\n",
    "    return df"
   ]
  },
  {
   "cell_type": "markdown",
   "id": "14f0b6c0",
   "metadata": {},
   "source": [
    "### c1_polarized_fractal_efficiency"
   ]
  },
  {
   "cell_type": "code",
   "execution_count": 31,
   "id": "85020853",
   "metadata": {},
   "outputs": [],
   "source": [
    "def c1_polarized_fractal_efficiency(df, period=10, signal_col='c1_signal', **kwargs):\n",
    "    change = df['close'] - df['close'].shift(period)\n",
    "    volatility = df['close'].diff().abs().rolling(window=period).sum()\n",
    "    pfe = change / (volatility + 1e-9)\n",
    "    df[signal_col] = 0\n",
    "    df.loc[pfe > 0, signal_col] = 1\n",
    "    df.loc[pfe < 0, signal_col] = -1\n",
    "    return df"
   ]
  },
  {
   "cell_type": "markdown",
   "id": "26266356",
   "metadata": {},
   "source": [
    "### c1_ttf"
   ]
  },
  {
   "cell_type": "code",
   "execution_count": 32,
   "id": "ffc34629",
   "metadata": {},
   "outputs": [],
   "source": [
    "def c1_ttf(df, period=20, signal_col='c1_signal', **kwargs):\n",
    "    momentum = df['close'] - df['close'].shift(period)\n",
    "    ttf = momentum.rolling(window=period).mean()\n",
    "    df[signal_col] = 0\n",
    "    df.loc[ttf > 0, signal_col] = 1\n",
    "    df.loc[ttf < 0, signal_col] = -1\n",
    "    return df"
   ]
  },
  {
   "cell_type": "markdown",
   "id": "43e93ece",
   "metadata": {},
   "source": [
    "### c1_doda_stochastic"
   ]
  },
  {
   "cell_type": "code",
   "execution_count": 33,
   "id": "abc78dca",
   "metadata": {},
   "outputs": [],
   "source": [
    "def c1_doda_stochastic(df, k_period=14, d_period=3, signal_col='c1_signal', **kwargs):\n",
    "    low_min = df['low'].rolling(window=k_period).min()\n",
    "    high_max = df['high'].rolling(window=k_period).max()\n",
    "    percent_k = 100 * (df['close'] - low_min) / (high_max - low_min + 1e-9)\n",
    "    percent_d = percent_k.rolling(window=d_period).mean()\n",
    "    df[signal_col] = 0\n",
    "    df.loc[percent_k > percent_d, signal_col] = 1\n",
    "    df.loc[percent_k < percent_d, signal_col] = -1\n",
    "    return df"
   ]
  },
  {
   "cell_type": "markdown",
   "id": "a9e9c746",
   "metadata": {},
   "source": [
    "### c1_ehlers_reverse_ema"
   ]
  },
  {
   "cell_type": "code",
   "execution_count": 34,
   "id": "1b62267e",
   "metadata": {},
   "outputs": [],
   "source": [
    "def c1_ehlers_reverse_ema(df, period=20, signal_col='c1_signal', **kwargs):\n",
    "    reversed_close = df['close'][::-1]\n",
    "    reverse_ema = reversed_close.ewm(span=period, adjust=False).mean()[::-1]\n",
    "    df[signal_col] = 0\n",
    "    df.loc[df['close'] > reverse_ema, signal_col] = 1\n",
    "    df.loc[df['close'] < reverse_ema, signal_col] = -1\n",
    "    return df"
   ]
  },
  {
   "cell_type": "markdown",
   "id": "bd5939c0",
   "metadata": {},
   "source": [
    "### c1_top_bottom_nr"
   ]
  },
  {
   "cell_type": "code",
   "execution_count": 35,
   "id": "08713565",
   "metadata": {},
   "outputs": [],
   "source": [
    "def c1_top_bottom_nr(df, period=14, signal_col='c1_signal', **kwargs):\n",
    "    top = df['high'].rolling(window=period).max()\n",
    "    bottom = df['low'].rolling(window=period).min()\n",
    "    df[signal_col] = 0\n",
    "    df.loc[df['close'] > top, signal_col] = 1\n",
    "    df.loc[df['close'] < bottom, signal_col] = -1\n",
    "    return df"
   ]
  },
  {
   "cell_type": "markdown",
   "id": "cfe52ebc",
   "metadata": {},
   "source": [
    "### c1_price_momentum_oscillator"
   ]
  },
  {
   "cell_type": "code",
   "execution_count": 36,
   "id": "f16748d8",
   "metadata": {},
   "outputs": [],
   "source": [
    "def c1_price_momentum_oscillator(df, short=12, long=26, signal_col='c1_signal', **kwargs):\n",
    "    roc = df['close'].pct_change() * 100\n",
    "    pmo = roc.ewm(span=short, adjust=False).mean().ewm(span=long, adjust=False).mean()\n",
    "    df[signal_col] = 0\n",
    "    df.loc[pmo > 0, signal_col] = 1\n",
    "    df.loc[pmo < 0, signal_col] = -1\n",
    "    return df"
   ]
  },
  {
   "cell_type": "markdown",
   "id": "e0717e81",
   "metadata": {},
   "source": [
    "### c1_sherif_hilo"
   ]
  },
  {
   "cell_type": "code",
   "execution_count": 37,
   "id": "eefcf9d3",
   "metadata": {},
   "outputs": [],
   "source": [
    "def c1_sherif_hilo(df, period=10, signal_col='c1_signal', **kwargs):\n",
    "    mid = (df['high'] + df['low']) / 2\n",
    "    hilo = mid.rolling(window=period).mean()\n",
    "    df[signal_col] = 0\n",
    "    df.loc[df['close'] > hilo, signal_col] = 1\n",
    "    df.loc[df['close'] < hilo, signal_col] = -1\n",
    "    return df"
   ]
  },
  {
   "cell_type": "markdown",
   "id": "2205072e",
   "metadata": {},
   "source": [
    "### c1_ergodic_tvi"
   ]
  },
  {
   "cell_type": "code",
   "execution_count": 38,
   "id": "33b6d274",
   "metadata": {},
   "outputs": [],
   "source": [
    "def c1_ergodic_tvi(df, period=13, signal_col='c1_signal', **kwargs):\n",
    "    volume = df['volume']\n",
    "    tvi = (df['close'] - df['open']) * volume\n",
    "    signal = tvi.rolling(window=period).mean()\n",
    "    df[signal_col] = 0\n",
    "    df.loc[signal > 0, signal_col] = 1\n",
    "    df.loc[signal < 0, signal_col] = -1\n",
    "    return df"
   ]
  },
  {
   "cell_type": "markdown",
   "id": "2190540f",
   "metadata": {},
   "source": [
    "### c1_dpo_histogram"
   ]
  },
  {
   "cell_type": "code",
   "execution_count": 39,
   "id": "56719ad0",
   "metadata": {},
   "outputs": [],
   "source": [
    "def c1_dpo_histogram(df, period=20, signal_col='c1_signal', **kwargs):\n",
    "    shift = int(period / 2) + 1\n",
    "    sma = df['close'].rolling(window=period).mean()\n",
    "    dpo = df['close'].shift(shift) - sma\n",
    "    df[signal_col] = 0\n",
    "    df.loc[dpo > 0, signal_col] = 1\n",
    "    df.loc[dpo < 0, signal_col] = -1\n",
    "    return df"
   ]
  },
  {
   "cell_type": "markdown",
   "id": "a0309116",
   "metadata": {},
   "source": [
    "### c1_lwpi"
   ]
  },
  {
   "cell_type": "code",
   "execution_count": 40,
   "id": "9965f3e2",
   "metadata": {},
   "outputs": [],
   "source": [
    "def c1_lwpi(df, period=14, signal_col='c1_signal', **kwargs):\n",
    "    weights = list(range(1, period + 1))\n",
    "    wma = df['close'].rolling(window=period).apply(lambda x: np.dot(x, weights)/sum(weights), raw=True)\n",
    "    df[signal_col] = 0\n",
    "    df.loc[df['close'] > wma, signal_col] = 1\n",
    "    df.loc[df['close'] < wma, signal_col] = -1\n",
    "    return df"
   ]
  },
  {
   "cell_type": "markdown",
   "id": "77a4eda7",
   "metadata": {},
   "source": [
    "### c1_aroon"
   ]
  },
  {
   "cell_type": "code",
   "execution_count": 41,
   "id": "ea8fb480",
   "metadata": {},
   "outputs": [],
   "source": [
    "def c1_aroon(df, period=25, signal_col='c1_signal', **kwargs):\n",
    "    def aroon_up(series):\n",
    "        return 100 * series[::-1].argmax() / period\n",
    "\n",
    "    def aroon_down(series):\n",
    "        return 100 * series[::-1].argmin() / period\n",
    "\n",
    "    up = df['high'].rolling(window=period).apply(aroon_up, raw=True)\n",
    "    down = df['low'].rolling(window=period).apply(aroon_down, raw=True)\n",
    "    osc = up - down\n",
    "    df[signal_col] = 0\n",
    "    df.loc[osc > 0, signal_col] = 1\n",
    "    df.loc[osc < 0, signal_col] = -1\n",
    "    return df"
   ]
  },
  {
   "cell_type": "markdown",
   "id": "4e54d121",
   "metadata": {},
   "source": [
    "### c1_bears_bulls_impulse"
   ]
  },
  {
   "cell_type": "code",
   "execution_count": 42,
   "id": "1c724dd9",
   "metadata": {},
   "outputs": [],
   "source": [
    "def c1_bears_bulls_impulse(df, period=14, signal_col='c1_signal', **kwargs):\n",
    "    bull = df['high'] - df['close'].shift(1)\n",
    "    bear = df['close'].shift(1) - df['low']\n",
    "    impulse = (bull - bear).rolling(window=period).mean()\n",
    "    df[signal_col] = 0\n",
    "    df.loc[impulse > 0, signal_col] = 1\n",
    "    df.loc[impulse < 0, signal_col] = -1\n",
    "    return df"
   ]
  },
  {
   "cell_type": "markdown",
   "id": "52053992",
   "metadata": {},
   "source": [
    "### c1_smooth_step"
   ]
  },
  {
   "cell_type": "code",
   "execution_count": 43,
   "id": "f35cbc44",
   "metadata": {},
   "outputs": [],
   "source": [
    "def c1_smooth_step(df, period=10, signal_col='c1_signal', **kwargs):\n",
    "    momentum = df['close'] - df['close'].shift(1)\n",
    "    smooth = momentum.rolling(window=period).mean().rolling(window=period).mean()\n",
    "    df[signal_col] = 0\n",
    "    df.loc[smooth > 0, signal_col] = 1\n",
    "    df.loc[smooth < 0, signal_col] = -1\n",
    "    return df"
   ]
  },
  {
   "cell_type": "markdown",
   "id": "6ba41fb9",
   "metadata": {},
   "source": [
    "### c1_ehlers_cg"
   ]
  },
  {
   "cell_type": "code",
   "execution_count": 44,
   "id": "33cb5143",
   "metadata": {},
   "outputs": [],
   "source": [
    "def c1_ehlers_cg(df, period=10, signal_col='c1_signal', **kwargs):\n",
    "    weights = np.arange(1, period + 1)\n",
    "    weighted_sum = df['close'].rolling(window=period).apply(lambda x: np.dot(weights[::-1], x), raw=True)\n",
    "    cg = weighted_sum / (period * (period + 1) / 2)\n",
    "    df[signal_col] = 0\n",
    "    df.loc[df['close'] > cg, signal_col] = 1\n",
    "    df.loc[df['close'] < cg, signal_col] = -1\n",
    "    return df"
   ]
  },
  {
   "cell_type": "markdown",
   "id": "5bb1950e",
   "metadata": {},
   "source": [
    "### c1_trend_continuation"
   ]
  },
  {
   "cell_type": "code",
   "execution_count": 45,
   "id": "d09cb688",
   "metadata": {},
   "outputs": [],
   "source": [
    "def c1_trend_continuation(df, period=12, signal_col='c1_signal', **kwargs):\n",
    "    delta = df['close'] - df['close'].shift(1)\n",
    "    smooth = delta.rolling(window=period).mean()\n",
    "    df[signal_col] = 0\n",
    "    df.loc[smooth > 0, signal_col] = 1\n",
    "    df.loc[smooth < 0, signal_col] = -1\n",
    "    return df"
   ]
  },
  {
   "cell_type": "markdown",
   "id": "d61e45dd",
   "metadata": {},
   "source": [
    "### c1_cyber_cycle"
   ]
  },
  {
   "cell_type": "code",
   "execution_count": 46,
   "id": "3b5e21b5",
   "metadata": {},
   "outputs": [],
   "source": [
    "def c1_cyber_cycle(df, period=10, signal_col='c1_signal', **kwargs):\n",
    "    cycle = df['close'] - df['close'].shift(period)\n",
    "    smooth = cycle.rolling(window=period).mean()\n",
    "    df[signal_col] = 0\n",
    "    df.loc[smooth > 0, signal_col] = 1\n",
    "    df.loc[smooth < 0, signal_col] = -1\n",
    "    return df"
   ]
  },
  {
   "cell_type": "markdown",
   "id": "b380be14",
   "metadata": {},
   "source": [
    "### c1_is_calculation"
   ]
  },
  {
   "cell_type": "code",
   "execution_count": 47,
   "id": "08aff6f7",
   "metadata": {},
   "outputs": [],
   "source": [
    "def c1_is_calculation(df, period=10, signal_col='c1_signal', **kwargs):\n",
    "    body = abs(df['close'] - df['open'])\n",
    "    is_line = body.rolling(window=period).mean()\n",
    "    df[signal_col] = 0\n",
    "    df.loc[df['close'] > df['open'], signal_col] = 1\n",
    "    df.loc[df['close'] < df['open'], signal_col] = -1\n",
    "    return df"
   ]
  },
  {
   "cell_type": "markdown",
   "id": "27c67a88",
   "metadata": {},
   "source": [
    "### c1_supertrend"
   ]
  },
  {
   "cell_type": "code",
   "execution_count": 48,
   "id": "b7f33bb3",
   "metadata": {},
   "outputs": [],
   "source": [
    "def c1_supertrend(df, atr_period=10, multiplier=3, signal_col='c1_signal', **kwargs):\n",
    "    atr = df['high'].rolling(atr_period).max() - df['low'].rolling(atr_period).min()\n",
    "    hl2 = (df['high'] + df['low']) / 2\n",
    "    upper_band = hl2 + multiplier * atr\n",
    "    lower_band = hl2 - multiplier * atr\n",
    "    df[signal_col] = 0\n",
    "    df.loc[df['close'] > upper_band, signal_col] = 1\n",
    "    df.loc[df['close'] < lower_band, signal_col] = -1\n",
    "    return df"
   ]
  },
  {
   "cell_type": "markdown",
   "id": "e6bff3ac",
   "metadata": {},
   "source": [
    "### c1_decycler_oscillator"
   ]
  },
  {
   "cell_type": "code",
   "execution_count": 49,
   "id": "dca788d5",
   "metadata": {},
   "outputs": [],
   "source": [
    "def c1_decycler_oscillator(df, period=20, signal_col='c1_signal', **kwargs):\n",
    "    detrended = df['close'] - df['close'].rolling(window=period).mean()\n",
    "    df[signal_col] = 0\n",
    "    df.loc[detrended > 0, signal_col] = 1\n",
    "    df.loc[detrended < 0, signal_col] = -1\n",
    "    return df"
   ]
  },
  {
   "cell_type": "markdown",
   "id": "4d081cf3",
   "metadata": {},
   "source": [
    "### c1_linear_regression_slope"
   ]
  },
  {
   "cell_type": "code",
   "execution_count": 50,
   "id": "daebf89d",
   "metadata": {},
   "outputs": [],
   "source": [
    "def c1_linear_regression_slope(df, period=14, signal_col='c1_signal', **kwargs):\n",
    "    x = np.arange(period)\n",
    "    slope = df['close'].rolling(window=period).apply(\n",
    "        lambda y: np.polyfit(x, y, 1)[0], raw=True\n",
    "    )\n",
    "    df[signal_col] = 0\n",
    "    df.loc[slope > 0, signal_col] = 1\n",
    "    df.loc[slope < 0, signal_col] = -1\n",
    "    return df"
   ]
  },
  {
   "cell_type": "markdown",
   "id": "50a7c0d6",
   "metadata": {},
   "source": [
    "### c1_trendilo"
   ]
  },
  {
   "cell_type": "code",
   "execution_count": 51,
   "id": "90e9a075",
   "metadata": {},
   "outputs": [],
   "source": [
    "def c1_trendilo(df, period=14, signal_col='c1_signal', **kwargs):\n",
    "    volatility = df['high'] - df['low']\n",
    "    signal = (df['close'] - df['open']) / (volatility + 1e-9)\n",
    "    smooth = signal.rolling(window=period).mean()\n",
    "    df[signal_col] = 0\n",
    "    df.loc[smooth > 0, signal_col] = 1\n",
    "    df.loc[smooth < 0, signal_col] = -1\n",
    "    return df"
   ]
  },
  {
   "cell_type": "markdown",
   "id": "209f5e54",
   "metadata": {},
   "source": [
    "### c1_third_gen_ma"
   ]
  },
  {
   "cell_type": "code",
   "execution_count": 52,
   "id": "6bafbda3",
   "metadata": {},
   "outputs": [],
   "source": [
    "def c1_third_gen_ma(df, period=20, signal_col='c1_signal', **kwargs):\n",
    "    ema1 = df['close'].ewm(span=period, adjust=False).mean()\n",
    "    ema2 = ema1.ewm(span=period, adjust=False).mean()\n",
    "    df[signal_col] = 0\n",
    "    df.loc[df['close'] > ema2, signal_col] = 1\n",
    "    df.loc[df['close'] < ema2, signal_col] = -1\n",
    "    return df"
   ]
  },
  {
   "cell_type": "markdown",
   "id": "21642d50",
   "metadata": {},
   "source": [
    "### c1_vulkan_profit"
   ]
  },
  {
   "cell_type": "code",
   "execution_count": 53,
   "id": "e6fb309e",
   "metadata": {},
   "outputs": [],
   "source": [
    "def c1_vulkan_profit(df, period=10, signal_col='c1_signal', **kwargs):\n",
    "    roc = df['close'].pct_change(periods=1)\n",
    "    smooth = roc.rolling(window=period).mean()\n",
    "    df[signal_col] = 0\n",
    "    df.loc[smooth > 0, signal_col] = 1\n",
    "    df.loc[smooth < 0, signal_col] = -1\n",
    "    return df"
   ]
  },
  {
   "cell_type": "markdown",
   "id": "83ff0312",
   "metadata": {},
   "source": [
    "### c1_top_trend"
   ]
  },
  {
   "cell_type": "code",
   "execution_count": 54,
   "id": "a673b1a5",
   "metadata": {},
   "outputs": [],
   "source": [
    "def c1_top_trend(df, period=14, signal_col='c1_signal', **kwargs):\n",
    "    ma = df['close'].rolling(window=period).mean()\n",
    "    df[signal_col] = 0\n",
    "    df.loc[df['close'] > ma, signal_col] = 1\n",
    "    df.loc[df['close'] < ma, signal_col] = -1\n",
    "    return df"
   ]
  },
  {
   "cell_type": "markdown",
   "id": "9c12496a",
   "metadata": {},
   "source": [
    "### c1_vortex_indicator"
   ]
  },
  {
   "cell_type": "code",
   "execution_count": 55,
   "id": "afd45f64",
   "metadata": {},
   "outputs": [],
   "source": [
    "def c1_vortex_indicator(df, period=14, signal_col='c1_signal', **kwargs):\n",
    "    tr = np.maximum(\n",
    "        df['high'] - df['low'],\n",
    "        np.maximum(abs(df['high'] - df['close'].shift(1)),\n",
    "                   abs(df['low'] - df['close'].shift(1)))\n",
    "    )\n",
    "    vm_plus = abs(df['high'] - df['low'].shift(1)).rolling(window=period).sum()\n",
    "    vm_minus = abs(df['low'] - df['high'].shift(1)).rolling(window=period).sum()\n",
    "    tr_sum = tr.rolling(window=period).sum()\n",
    "\n",
    "    vi = (vm_plus - vm_minus) / (tr_sum + 1e-9)\n",
    "    df[signal_col] = 0\n",
    "    df.loc[vi > 0, signal_col] = 1\n",
    "    df.loc[vi < 0, signal_col] = -1\n",
    "    return df"
   ]
  },
  {
   "cell_type": "markdown",
   "id": "6d48c351",
   "metadata": {},
   "source": [
    "### c1_schaff_trend_cycle"
   ]
  },
  {
   "cell_type": "code",
   "execution_count": 56,
   "id": "8f36aae9",
   "metadata": {},
   "outputs": [],
   "source": [
    "def c1_schaff_trend_cycle(df, short=23, long=50, cycle=10, signal_col='c1_signal', **kwargs):\n",
    "    ema_short = df['close'].ewm(span=short, adjust=False).mean()\n",
    "    ema_long = df['close'].ewm(span=long, adjust=False).mean()\n",
    "    macd = ema_short - ema_long\n",
    "\n",
    "    macd_min = macd.rolling(window=cycle).min()\n",
    "    macd_max = macd.rolling(window=cycle).max()\n",
    "\n",
    "    stc = 100 * (macd - macd_min) / (macd_max - macd_min + 1e-9)\n",
    "    df[signal_col] = 0\n",
    "    df.loc[stc > 50, signal_col] = 1\n",
    "    df.loc[stc < 50, signal_col] = -1\n",
    "    return df"
   ]
  },
  {
   "cell_type": "markdown",
   "id": "cb3eb27e",
   "metadata": {},
   "source": [
    "### c1_laguerre"
   ]
  },
  {
   "cell_type": "code",
   "execution_count": 57,
   "id": "0da3fdf6",
   "metadata": {},
   "outputs": [],
   "source": [
    "def c1_laguerre(df, gamma=0.5, signal_col='c1_signal', **kwargs):\n",
    "    l0 = df['close'].ewm(alpha=gamma, adjust=False).mean()\n",
    "    l1 = l0.ewm(alpha=gamma, adjust=False).mean()\n",
    "    lag = (l0 + 2 * l1) / 3\n",
    "    df[signal_col] = 0\n",
    "    df.loc[df['close'] > lag, signal_col] = 1\n",
    "    df.loc[df['close'] < lag, signal_col] = -1\n",
    "    return df"
   ]
  },
  {
   "cell_type": "markdown",
   "id": "b77ba360",
   "metadata": {},
   "source": [
    "### c1_tp_trend_pivot"
   ]
  },
  {
   "cell_type": "code",
   "execution_count": 58,
   "id": "d0dca27c",
   "metadata": {},
   "outputs": [],
   "source": [
    "def c1_tp_trend_pivot(df, period=10, signal_col='c1_signal', **kwargs):\n",
    "    mid = (df['high'] + df['low']) / 2\n",
    "    avg = mid.rolling(window=period).mean()\n",
    "    df[signal_col] = 0\n",
    "    df.loc[df['close'] > avg, signal_col] = 1\n",
    "    df.loc[df['close'] < avg, signal_col] = -1\n",
    "    return df"
   ]
  },
  {
   "cell_type": "markdown",
   "id": "2d9fe34c",
   "metadata": {},
   "source": [
    "### c1_wpr_ma"
   ]
  },
  {
   "cell_type": "code",
   "execution_count": 59,
   "id": "0e31f0c6",
   "metadata": {},
   "outputs": [],
   "source": [
    "def c1_wpr_ma(df, period=14, ma_period=5, signal_col='c1_signal', **kwargs):\n",
    "    high = df['high'].rolling(window=period).max()\n",
    "    low = df['low'].rolling(window=period).min()\n",
    "    wpr = -100 * (high - df['close']) / (high - low + 1e-9)\n",
    "    wpr_ma = wpr.rolling(window=ma_period).mean()\n",
    "    df[signal_col] = 0\n",
    "    df.loc[wpr_ma > -50, signal_col] = 1\n",
    "    df.loc[wpr_ma < -50, signal_col] = -1\n",
    "    return df"
   ]
  },
  {
   "cell_type": "markdown",
   "id": "c77a8bcc",
   "metadata": {},
   "source": [
    "### c1_zerolag_macd"
   ]
  },
  {
   "cell_type": "code",
   "execution_count": 60,
   "id": "c05e0116",
   "metadata": {},
   "outputs": [],
   "source": [
    "def c1_zerolag_macd(df, short=12, long=26, signal=9, signal_col='c1_signal', **kwargs):\n",
    "    fast = df['close'].ewm(span=short).mean()\n",
    "    slow = df['close'].ewm(span=long).mean()\n",
    "    macd = 2 * fast - slow\n",
    "    signal_line = macd.ewm(span=signal).mean()\n",
    "    df[signal_col] = 0\n",
    "    df.loc[macd > signal_line, signal_col] = 1\n",
    "    df.loc[macd < signal_line, signal_col] = -1\n",
    "    return df"
   ]
  },
  {
   "cell_type": "markdown",
   "id": "cdad6b6c",
   "metadata": {},
   "source": [
    "### c1_ease_of_movement"
   ]
  },
  {
   "cell_type": "code",
   "execution_count": 61,
   "id": "ae24175f",
   "metadata": {},
   "outputs": [],
   "source": [
    "def c1_ease_of_movement(df, period=14, signal_col='c1_signal', **kwargs):\n",
    "    emv = ((df['high'] + df['low']) / 2 - ((df['high'].shift(1) + df['low'].shift(1)) / 2)) * \\\n",
    "          (df['high'] - df['low']) / (df['volume'] + 1e-9)\n",
    "    emv_ma = emv.rolling(window=period).mean()\n",
    "    df[signal_col] = 0\n",
    "    df.loc[emv_ma > 0, signal_col] = 1\n",
    "    df.loc[emv_ma < 0, signal_col] = -1\n",
    "    return df"
   ]
  },
  {
   "cell_type": "markdown",
   "id": "44181422",
   "metadata": {},
   "source": [
    "### c1_trend_lord"
   ]
  },
  {
   "cell_type": "code",
   "execution_count": 62,
   "id": "0cc42a10",
   "metadata": {},
   "outputs": [],
   "source": [
    "def c1_trend_lord(df, period=20, signal_col='c1_signal', **kwargs):\n",
    "    weights = np.arange(1, period + 1)\n",
    "    wma = df['close'].rolling(window=period).apply(lambda x: np.dot(x, weights)/sum(weights), raw=True)\n",
    "    smooth = wma.rolling(window=period).mean()\n",
    "    df[signal_col] = 0\n",
    "    df.loc[df['close'] > smooth, signal_col] = 1\n",
    "    df.loc[df['close'] < smooth, signal_col] = -1\n",
    "    return df"
   ]
  },
  {
   "cell_type": "markdown",
   "id": "61a1156f",
   "metadata": {},
   "source": [
    "### c1_hlc_trend"
   ]
  },
  {
   "cell_type": "code",
   "execution_count": 63,
   "id": "8a37f7e9",
   "metadata": {},
   "outputs": [],
   "source": [
    "def c1_hlc_trend(df, period=14, signal_col='c1_signal', **kwargs):\n",
    "    hlc = (df['high'] + df['low'] + df['close']) / 3\n",
    "    smoothed = hlc.rolling(window=period).mean()\n",
    "    df[signal_col] = 0\n",
    "    df.loc[df['close'] > smoothed, signal_col] = 1\n",
    "    df.loc[df['close'] < smoothed, signal_col] = -1\n",
    "    return df"
   ]
  },
  {
   "cell_type": "markdown",
   "id": "03466814",
   "metadata": {},
   "source": [
    "### c1_aso"
   ]
  },
  {
   "cell_type": "code",
   "execution_count": 64,
   "id": "357c82a0",
   "metadata": {},
   "outputs": [],
   "source": [
    "def c1_aso(df, period=14, signal_col='c1_signal', **kwargs):\n",
    "    up = df['close'] > df['open']\n",
    "    down = df['close'] < df['open']\n",
    "    score = (up.astype(int) - down.astype(int)).rolling(window=period).mean()\n",
    "    df[signal_col] = 0\n",
    "    df.loc[score > 0, signal_col] = 1\n",
    "    df.loc[score < 0, signal_col] = -1\n",
    "    return df"
   ]
  },
  {
   "cell_type": "markdown",
   "id": "b90fbe6f",
   "metadata": {},
   "source": [
    "### c1_kuskus_starlight"
   ]
  },
  {
   "cell_type": "code",
   "execution_count": 65,
   "id": "56cbd1b0",
   "metadata": {},
   "outputs": [],
   "source": [
    "def c1_kuskus_starlight(df, period=14, signal_col='c1_signal', **kwargs):\n",
    "    delta = df['close'] - df['close'].shift(1)\n",
    "    starlight = delta.rolling(window=period).mean()\n",
    "    df[signal_col] = 0\n",
    "    df.loc[starlight > 0, signal_col] = 1\n",
    "    df.loc[starlight < 0, signal_col] = -1\n",
    "    return df"
   ]
  }
 ],
 "metadata": {
  "kernelspec": {
   "display_name": "Python (forex_backtester)",
   "language": "python",
   "name": "forex_backtester"
  },
  "language_info": {
   "codemirror_mode": {
    "name": "ipython",
    "version": 3
   },
   "file_extension": ".py",
   "mimetype": "text/x-python",
   "name": "python",
   "nbconvert_exporter": "python",
   "pygments_lexer": "ipython3",
   "version": "3.12.11"
  }
 },
 "nbformat": 4,
 "nbformat_minor": 5
}
