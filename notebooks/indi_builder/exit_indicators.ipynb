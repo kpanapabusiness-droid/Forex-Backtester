{
 "cells": [
  {
   "cell_type": "code",
   "execution_count": null,
   "id": "30c67403-5a23-44cb-ad89-f7b8f87afe49",
   "metadata": {},
   "outputs": [],
   "source": []
  },
  {
   "cell_type": "code",
   "execution_count": null,
   "id": "49b9b8fc-7df6-4a5c-ac0d-4c04d409a7c7",
   "metadata": {},
   "outputs": [],
   "source": []
  },
  {
   "cell_type": "code",
   "execution_count": null,
   "id": "3c61650c-c955-4507-860a-a17bb5d74dce",
   "metadata": {},
   "outputs": [],
   "source": []
  },
  {
   "cell_type": "code",
   "execution_count": null,
   "id": "aeb0af00-8334-4d7e-a11b-e74d04d6c0b8",
   "metadata": {},
   "outputs": [],
   "source": []
  },
  {
   "cell_type": "code",
   "execution_count": null,
   "id": "f53bcda6-13a7-411d-a99f-293899cad05c",
   "metadata": {},
   "outputs": [],
   "source": []
  },
  {
   "cell_type": "code",
   "execution_count": null,
   "id": "885f9554-8816-4d45-9970-7b5833dc68bf",
   "metadata": {},
   "outputs": [],
   "source": []
  },
  {
   "cell_type": "code",
   "execution_count": 1,
   "id": "9dcdcc86-afa4-4e09-9f71-44ee3922accb",
   "metadata": {},
   "outputs": [],
   "source": [
    "import ast\n",
    "import inspect\n",
    "import os\n",
    "\n",
    "# Force export to project root, regardless of notebook location\n",
    "project_root = os.path.abspath(\"..\")  # go one level up from notebooks/\n",
    "indicators_path = os.path.join(project_root, \"indicators\")\n",
    "\n",
    "def export_functions(output_path):\n",
    "    \"\"\"\n",
    "    Scans the notebook's namespace and writes all top-level functions\n",
    "    to a Python module file.\n",
    "    \"\"\"\n",
    "    source_lines = []\n",
    "\n",
    "    for name, val in globals().items():\n",
    "        if callable(val) and val.__module__ == \"__main__\":\n",
    "            try:\n",
    "                lines = inspect.getsource(val)\n",
    "                ast.parse(lines)  # Validate it's valid Python\n",
    "                source_lines.append(lines)\n",
    "            except Exception:\n",
    "                pass  # Skip non-exportable items\n",
    "\n",
    "    # Ensure directory exists\n",
    "    os.makedirs(os.path.dirname(output_path), exist_ok=True)\n",
    "\n",
    "    with open(output_path, \"w\") as f:\n",
    "        f.write(\"\".join(source_lines))\n",
    "\n",
    "    print(f\"✅ Exported {len(source_lines)} functions to {output_path}\")\n"
   ]
  },
  {
   "cell_type": "code",
   "execution_count": 2,
   "id": "2071c45d-04c2-4088-8f6a-c81e3eaee194",
   "metadata": {},
   "outputs": [
    {
     "name": "stdout",
     "output_type": "stream",
     "text": [
      "✅ Exported 1 functions to indicators/baseline_funcs.py\n"
     ]
    }
   ],
   "source": [
    "export_functions(\"indicators/esit_funcs.py\")\n"
   ]
  },
  {
   "cell_type": "code",
   "execution_count": null,
   "id": "7a8c905e-95f9-4441-8cc2-a24aa1014d25",
   "metadata": {},
   "outputs": [],
   "source": []
  }
 ],
 "metadata": {
  "kernelspec": {
   "display_name": "Python (forex_backtester)",
   "language": "python",
   "name": "forex_backtester"
  },
  "language_info": {
   "codemirror_mode": {
    "name": "ipython",
    "version": 3
   },
   "file_extension": ".py",
   "mimetype": "text/x-python",
   "name": "python",
   "nbconvert_exporter": "python",
   "pygments_lexer": "ipython3",
   "version": "3.12.11"
  }
 },
 "nbformat": 4,
 "nbformat_minor": 5
}
