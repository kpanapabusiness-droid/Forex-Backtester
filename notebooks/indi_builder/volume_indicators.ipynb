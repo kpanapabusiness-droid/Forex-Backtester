{
 "cells": [
  {
   "cell_type": "code",
   "execution_count": null,
   "id": "8b9956a8-4a08-4d5f-b870-407f5535cab7",
   "metadata": {},
   "outputs": [],
   "source": []
  },
  {
   "cell_type": "code",
   "execution_count": null,
   "id": "640f4005-d477-49b6-bc7b-57ac09b971ee",
   "metadata": {},
   "outputs": [],
   "source": []
  },
  {
   "cell_type": "code",
   "execution_count": null,
   "id": "6d1109df-d775-443d-8a61-7bcaf0cb0acf",
   "metadata": {},
   "outputs": [],
   "source": []
  },
  {
   "cell_type": "code",
   "execution_count": null,
   "id": "b554d2f6-050b-41cf-8237-ec1a96046d99",
   "metadata": {},
   "outputs": [],
   "source": []
  },
  {
   "cell_type": "code",
   "execution_count": null,
   "id": "3eb7afa2-c60b-478f-97cb-3e9fced07751",
   "metadata": {},
   "outputs": [],
   "source": []
  },
  {
   "cell_type": "code",
   "execution_count": null,
   "id": "0f0cd3e4-1c7b-4a40-b943-5ec5a438e8c8",
   "metadata": {},
   "outputs": [],
   "source": [
    "import ast\n",
    "import inspect\n",
    "import os\n",
    "\n",
    "# Force export to project root, regardless of notebook location\n",
    "project_root = os.path.abspath(\"..\")  # go one level up from notebooks/\n",
    "indicators_path = os.path.join(project_root, \"indicators\")\n",
    "\n",
    "\n",
    "def export_functions(output_path):\n",
    "    \"\"\"\n",
    "    Scans the notebook's namespace and writes all top-level functions\n",
    "    to a Python module file.\n",
    "    \"\"\"\n",
    "    source_lines = []\n",
    "\n",
    "    for name, val in globals().items():\n",
    "        if callable(val) and val.__module__ == \"__main__\":\n",
    "            try:\n",
    "                lines = inspect.getsource(val)\n",
    "                ast.parse(lines)  # Validate it's valid Python\n",
    "                source_lines.append(lines)\n",
    "            except Exception:\n",
    "                pass  # Skip non-exportable items\n",
    "\n",
    "    # Ensure directory exists\n",
    "    os.makedirs(os.path.dirname(output_path), exist_ok=True)\n",
    "\n",
    "    with open(output_path, \"w\") as f:\n",
    "        f.write(\"\".join(source_lines))\n",
    "\n",
    "    print(f\"✅ Exported {len(source_lines)} functions to {output_path}\")\n"
   ]
  },
  {
   "cell_type": "code",
   "execution_count": null,
   "id": "202356d5-4535-45d5-af4f-09b19c02a2a2",
   "metadata": {},
   "outputs": [],
   "source": [
    "export_functions(\"indicators/volume_funcs.py\")\n"
   ]
  }
 ],
 "metadata": {
  "kernelspec": {
   "display_name": "Python (forex_backtester)",
   "language": "python",
   "name": "forex_backtester"
  },
  "language_info": {
   "codemirror_mode": {
    "name": "ipython",
    "version": 3
   },
   "file_extension": ".py",
   "mimetype": "text/x-python",
   "name": "python",
   "nbconvert_exporter": "python",
   "pygments_lexer": "ipython3",
   "version": "3.12.11"
  }
 },
 "nbformat": 4,
 "nbformat_minor": 5
}
