{
 "cells": [
  {
   "cell_type": "code",
   "execution_count": 1,
   "id": "ada10371-cb48-485f-8ce1-9591f51e8ba0",
   "metadata": {},
   "outputs": [
    {
     "name": "stdout",
     "output_type": "stream",
     "text": [
      "CWD: /Users/keanupanapa/Notebooks/Forex_Backtester\n",
      "backtester.py exists: True\n",
      "signal_logic.py exists: True\n"
     ]
    }
   ],
   "source": [
    "import os, sys\n",
    "from pathlib import Path\n",
    "\n",
    "PROJECT_ROOT = Path(\"/Users/keanupanapa/Notebooks/Forex_Backtester\")  # <- change if needed\n",
    "os.chdir(PROJECT_ROOT)\n",
    "if str(PROJECT_ROOT) not in sys.path:\n",
    "    sys.path.insert(0, str(PROJECT_ROOT))\n",
    "\n",
    "print(\"CWD:\", Path.cwd())\n",
    "print(\"backtester.py exists:\", Path(\"backtester.py\").exists())\n",
    "print(\"signal_logic.py exists:\", Path(\"signal_logic.py\").exists())\n"
   ]
  },
  {
   "cell_type": "code",
   "execution_count": 5,
   "id": "3289c45a-3f54-4e81-8bf0-7359d0420394",
   "metadata": {},
   "outputs": [
    {
     "name": "stdout",
     "output_type": "stream",
     "text": [
      "✅ invariant checks passed\n"
     ]
    }
   ],
   "source": [
    "import pandas as pd\n",
    "t = pd.read_csv(\"results/trades.csv\")\n",
    "\n",
    "# TS on only when active and sensible\n",
    "assert t.loc[t.ts_active==True, \"ts_level\"].notna().all()\n",
    "\n",
    "# BE after TP1 implies exit at >= entry or scratch\n",
    "mask = t[\"breakeven_after_tp1\"]==True\n",
    "assert (t.loc[mask, \"pnl\"] >= -1e-6).all()\n",
    "\n",
    "# Exit reasons cover all rows\n",
    "assert t[\"exit_reason\"].notna().all()\n",
    "print(\"✅ invariant checks passed\")\n"
   ]
  },
  {
   "cell_type": "code",
   "execution_count": null,
   "id": "752eb800-b1f2-4924-b824-7c68b81a5380",
   "metadata": {},
   "outputs": [],
   "source": []
  }
 ],
 "metadata": {
  "kernelspec": {
   "display_name": "Python (forex_backtester)",
   "language": "python",
   "name": "forex_backtester"
  },
  "language_info": {
   "codemirror_mode": {
    "name": "ipython",
    "version": 3
   },
   "file_extension": ".py",
   "mimetype": "text/x-python",
   "name": "python",
   "nbconvert_exporter": "python",
   "pygments_lexer": "ipython3",
   "version": "3.12.11"
  }
 },
 "nbformat": 4,
 "nbformat_minor": 5
}
